{
 "cells": [
  {
   "cell_type": "code",
   "execution_count": 24,
   "id": "432a41d7-e394-4e28-ac34-b35b12b31edd",
   "metadata": {},
   "outputs": [],
   "source": [
    "import pandas as pd"
   ]
  },
  {
   "cell_type": "code",
   "execution_count": 25,
   "id": "c1f5d6bc-df15-4c5d-9cd4-60d37bf3a776",
   "metadata": {},
   "outputs": [],
   "source": [
    "ds=pd.read_csv(r'D:\\Road to ML\\datasets\\SMS Spam Dataset.csv')"
   ]
  },
  {
   "cell_type": "code",
   "execution_count": 26,
   "id": "faf93448-73fc-4a7d-8b6e-6cd91443bf08",
   "metadata": {},
   "outputs": [
    {
     "name": "stdout",
     "output_type": "stream",
     "text": [
      "new skill eat\n"
     ]
    }
   ],
   "source": [
    "import re\n",
    "from nltk.corpus import stopwords\n",
    "from nltk.stem import PorterStemmer\n",
    "from nltk.tokenize import word_tokenize\n",
    "\n",
    "def Clean_text(text):\n",
    "    # Convert text to lowercase\n",
    "    text = text.lower()\n",
    "    \n",
    "    # Remove non-alphabetic characters except spaces\n",
    "    text = re.sub(r'[^a-zA-Z\\s]', '', text)\n",
    "    \n",
    "    # Remove URLs (if starting with 'http')\n",
    "    text = re.sub(r'http\\S+', '', text)\n",
    "    \n",
    "    # Tokenize the text\n",
    "    words = word_tokenize(text)\n",
    "\n",
    "    stopword=set(stopwords.words('english'))\n",
    "    filtered_words = [word for word in words if word not in stopword] \n",
    "    stemmer= PorterStemmer()\n",
    "    stemmed_words= [stemmer.stem(word) for word in filtered_words]\n",
    "\n",
    "    Clean_text_ = ' '.join(stemmed_words)\n",
    "    \n",
    "    return Clean_text_\n",
    "\n",
    "# Example usage\n",
    "text = r\"This is my new skill eating 123 @%^^% https\\qasda.com\"\n",
    "print(Clean_text(text))\n"
   ]
  },
  {
   "cell_type": "code",
   "execution_count": 27,
   "id": "e5c01887-e6c7-4d91-81bc-2c1531a4d538",
   "metadata": {},
   "outputs": [],
   "source": [
    "ds['Clean_text']= ds['sms'].apply(lambda x: Clean_text(x))"
   ]
  },
  {
   "cell_type": "code",
   "execution_count": 28,
   "id": "6b7c573c-fb5e-46e1-aa84-ed3fe2a24c09",
   "metadata": {},
   "outputs": [
    {
     "data": {
      "text/html": [
       "<div>\n",
       "<style scoped>\n",
       "    .dataframe tbody tr th:only-of-type {\n",
       "        vertical-align: middle;\n",
       "    }\n",
       "\n",
       "    .dataframe tbody tr th {\n",
       "        vertical-align: top;\n",
       "    }\n",
       "\n",
       "    .dataframe thead th {\n",
       "        text-align: right;\n",
       "    }\n",
       "</style>\n",
       "<table border=\"1\" class=\"dataframe\">\n",
       "  <thead>\n",
       "    <tr style=\"text-align: right;\">\n",
       "      <th></th>\n",
       "      <th>sms</th>\n",
       "      <th>label</th>\n",
       "      <th>Clean_text</th>\n",
       "    </tr>\n",
       "  </thead>\n",
       "  <tbody>\n",
       "    <tr>\n",
       "      <th>0</th>\n",
       "      <td>Go until jurong point, crazy.. Available only ...</td>\n",
       "      <td>0</td>\n",
       "      <td>go jurong point crazi avail bugi n great world...</td>\n",
       "    </tr>\n",
       "    <tr>\n",
       "      <th>1</th>\n",
       "      <td>Ok lar... Joking wif u oni...\\n</td>\n",
       "      <td>0</td>\n",
       "      <td>ok lar joke wif u oni</td>\n",
       "    </tr>\n",
       "    <tr>\n",
       "      <th>2</th>\n",
       "      <td>Free entry in 2 a wkly comp to win FA Cup fina...</td>\n",
       "      <td>1</td>\n",
       "      <td>free entri wkli comp win fa cup final tkt st m...</td>\n",
       "    </tr>\n",
       "    <tr>\n",
       "      <th>3</th>\n",
       "      <td>U dun say so early hor... U c already then say...</td>\n",
       "      <td>0</td>\n",
       "      <td>u dun say earli hor u c alreadi say</td>\n",
       "    </tr>\n",
       "    <tr>\n",
       "      <th>4</th>\n",
       "      <td>Nah I don't think he goes to usf, he lives aro...</td>\n",
       "      <td>0</td>\n",
       "      <td>nah dont think goe usf live around though</td>\n",
       "    </tr>\n",
       "  </tbody>\n",
       "</table>\n",
       "</div>"
      ],
      "text/plain": [
       "                                                 sms  label  \\\n",
       "0  Go until jurong point, crazy.. Available only ...      0   \n",
       "1                    Ok lar... Joking wif u oni...\\n      0   \n",
       "2  Free entry in 2 a wkly comp to win FA Cup fina...      1   \n",
       "3  U dun say so early hor... U c already then say...      0   \n",
       "4  Nah I don't think he goes to usf, he lives aro...      0   \n",
       "\n",
       "                                          Clean_text  \n",
       "0  go jurong point crazi avail bugi n great world...  \n",
       "1                              ok lar joke wif u oni  \n",
       "2  free entri wkli comp win fa cup final tkt st m...  \n",
       "3                u dun say earli hor u c alreadi say  \n",
       "4          nah dont think goe usf live around though  "
      ]
     },
     "execution_count": 28,
     "metadata": {},
     "output_type": "execute_result"
    }
   ],
   "source": [
    "ds.head()"
   ]
  },
  {
   "cell_type": "code",
   "execution_count": 29,
   "id": "9b24693c-1231-4301-820a-f72bbeaa48e0",
   "metadata": {},
   "outputs": [
    {
     "data": {
      "text/plain": [
       "label\n",
       "0    4827\n",
       "1     747\n",
       "Name: count, dtype: int64"
      ]
     },
     "execution_count": 29,
     "metadata": {},
     "output_type": "execute_result"
    }
   ],
   "source": [
    "ds['label'].value_counts()"
   ]
  },
  {
   "cell_type": "code",
   "execution_count": 30,
   "id": "9e3be086-b657-495e-9d05-6f67e8d52fad",
   "metadata": {},
   "outputs": [
    {
     "data": {
      "text/plain": [
       "label\n",
       "0    4827\n",
       "1    4827\n",
       "Name: count, dtype: int64"
      ]
     },
     "execution_count": 30,
     "metadata": {},
     "output_type": "execute_result"
    }
   ],
   "source": [
    "from imblearn.over_sampling import RandomOverSampler\n",
    "\n",
    "x=ds.drop('label',axis=1)\n",
    "y=ds['label']\n",
    "OS= RandomOverSampler()\n",
    "x_resample,y_resample= OS.fit_resample(x,y)\n",
    "\n",
    "ds_balanced=pd.DataFrame(x_resample,columns=x.columns)\n",
    "ds_balanced['label']=y_resample\n",
    "\n",
    "ds_balanced['label'].value_counts()"
   ]
  },
  {
   "cell_type": "code",
   "execution_count": 31,
   "id": "f88dda8e-a2bf-419e-a0af-4ff97bc63b87",
   "metadata": {},
   "outputs": [],
   "source": [
    "from sklearn.model_selection  import train_test_split\n",
    "from sklearn.feature_extraction.text import TfidfVectorizer\n",
    "\n",
    "x_train,x_test,y_train,y_test=train_test_split(ds_balanced['Clean_text'],ds_balanced['label'],test_size=0.2,random_state=42)\n",
    "\n",
    "tfid= TfidfVectorizer()\n",
    "x_train_tfidf=tfid.fit_transform(x_train)\n",
    "x_test_tfidf=tfid.transform(x_test)"
   ]
  },
  {
   "cell_type": "code",
   "execution_count": 32,
   "id": "055382ca-c1fb-400c-a437-359865e45e3a",
   "metadata": {},
   "outputs": [
    {
     "data": {
      "text/plain": [
       "array([[0., 0., 0., ..., 0., 0., 0.],\n",
       "       [0., 0., 0., ..., 0., 0., 0.],\n",
       "       [0., 0., 0., ..., 0., 0., 0.],\n",
       "       ...,\n",
       "       [0., 0., 0., ..., 0., 0., 0.],\n",
       "       [0., 0., 0., ..., 0., 0., 0.],\n",
       "       [0., 0., 0., ..., 0., 0., 0.]])"
      ]
     },
     "execution_count": 32,
     "metadata": {},
     "output_type": "execute_result"
    }
   ],
   "source": [
    "x_train_tfidf.toarray()"
   ]
  },
  {
   "cell_type": "code",
   "execution_count": 33,
   "id": "dac82a61-604c-44e5-bb5c-8ea93d01a5bf",
   "metadata": {},
   "outputs": [
    {
     "name": "stdout",
     "output_type": "stream",
     "text": [
      "Confusion Matrix\n",
      "[[992   2]\n",
      " [  5 932]]\n",
      "Classification Report\n",
      "              precision    recall  f1-score   support\n",
      "\n",
      "           0       0.99      1.00      1.00       994\n",
      "           1       1.00      0.99      1.00       937\n",
      "\n",
      "    accuracy                           1.00      1931\n",
      "   macro avg       1.00      1.00      1.00      1931\n",
      "weighted avg       1.00      1.00      1.00      1931\n",
      "\n"
     ]
    }
   ],
   "source": [
    "from sklearn.ensemble import RandomForestClassifier\n",
    "from sklearn.metrics import confusion_matrix,classification_report\n",
    "\n",
    "rf=RandomForestClassifier(random_state=42)\n",
    "rf.fit(x_train_tfidf,y_train)\n",
    "y_rf_pred=rf.predict(x_test_tfidf)\n",
    "\n",
    "CM=confusion_matrix(y_test,y_rf_pred)\n",
    "CR=classification_report(y_test,y_rf_pred)\n",
    "\n",
    "print('Confusion Matrix')\n",
    "print(CM)\n",
    "print('Classification Report')\n",
    "print(CR)"
   ]
  },
  {
   "cell_type": "code",
   "execution_count": 34,
   "id": "cc288119-d012-4e7d-98be-be930e53786f",
   "metadata": {},
   "outputs": [
    {
     "name": "stdout",
     "output_type": "stream",
     "text": [
      "Confusion Matrix\n",
      "[[982  12]\n",
      " [ 11 926]]\n",
      "Classification Report\n",
      "              precision    recall  f1-score   support\n",
      "\n",
      "           0       0.99      0.99      0.99       994\n",
      "           1       0.99      0.99      0.99       937\n",
      "\n",
      "    accuracy                           0.99      1931\n",
      "   macro avg       0.99      0.99      0.99      1931\n",
      "weighted avg       0.99      0.99      0.99      1931\n",
      "\n"
     ]
    }
   ],
   "source": [
    "from sklearn.linear_model import LogisticRegression\n",
    "from sklearn.metrics import confusion_matrix,classification_report\n",
    "\n",
    "lr=LogisticRegression()\n",
    "lr.fit(x_train_tfidf,y_train)\n",
    "y_lr_pred=lr.predict(x_test_tfidf)\n",
    "\n",
    "CM=confusion_matrix(y_test,y_lr_pred)\n",
    "CR=classification_report(y_test,y_lr_pred)\n",
    "\n",
    "print('Confusion Matrix')\n",
    "print(CM)\n",
    "print('Classification Report')\n",
    "print(CR)"
   ]
  },
  {
   "cell_type": "code",
   "execution_count": 35,
   "id": "24d8aad9-22f6-47e1-a589-60c9677f4f07",
   "metadata": {},
   "outputs": [
    {
     "name": "stdout",
     "output_type": "stream",
     "text": [
      "Confusion Matrix\n",
      "[[992   2]\n",
      " [  3 934]]\n",
      "Classification Report\n",
      "              precision    recall  f1-score   support\n",
      "\n",
      "           0       1.00      1.00      1.00       994\n",
      "           1       1.00      1.00      1.00       937\n",
      "\n",
      "    accuracy                           1.00      1931\n",
      "   macro avg       1.00      1.00      1.00      1931\n",
      "weighted avg       1.00      1.00      1.00      1931\n",
      "\n"
     ]
    }
   ],
   "source": [
    "from sklearn.svm import SVC\n",
    "from sklearn.metrics import confusion_matrix,classification_report\n",
    "\n",
    "svc=SVC(kernel='linear',random_state=42)\n",
    "svc.fit(x_train_tfidf,y_train)\n",
    "y_svc_pred=svc.predict(x_test_tfidf)\n",
    "\n",
    "CM=confusion_matrix(y_test,y_svc_pred)\n",
    "CR=classification_report(y_test,y_svc_pred)\n",
    "\n",
    "print('Confusion Matrix')\n",
    "print(CM)\n",
    "print('Classification Report')\n",
    "print(CR)"
   ]
  },
  {
   "cell_type": "code",
   "execution_count": 36,
   "id": "2b53184d-516c-423e-ab49-409298af805f",
   "metadata": {},
   "outputs": [
    {
     "name": "stdout",
     "output_type": "stream",
     "text": [
      "Confusion Matrix\n",
      "[[992   2]\n",
      " [  3 934]]\n",
      "Classification Report\n",
      "              precision    recall  f1-score   support\n",
      "\n",
      "           0       1.00      1.00      1.00       994\n",
      "           1       1.00      1.00      1.00       937\n",
      "\n",
      "    accuracy                           1.00      1931\n",
      "   macro avg       1.00      1.00      1.00      1931\n",
      "weighted avg       1.00      1.00      1.00      1931\n",
      "\n"
     ]
    }
   ],
   "source": [
    "from sklearn.ensemble import VotingClassifier\n",
    "from sklearn.metrics import confusion_matrix,classification_report\n",
    "EC=VotingClassifier(estimators=[\n",
    "    ('RandomForest',rf),\n",
    "    ('Logistic Regression ',lr),\n",
    "    ('SVM',svc),\n",
    "],voting='hard')\n",
    "\n",
    "\n",
    "EC.fit(x_train_tfidf,y_train)\n",
    "y_EC_pred=svc.predict(x_test_tfidf)\n",
    "\n",
    "CM=confusion_matrix(y_test,y_EC_pred)\n",
    "CR=classification_report(y_test,y_EC_pred)\n",
    "\n",
    "print('Confusion Matrix')\n",
    "print(CM)\n",
    "print('Classification Report')\n",
    "print(CR)"
   ]
  },
  {
   "cell_type": "markdown",
   "id": "ce509dc6-c47c-47c6-b2ef-381f8801962d",
   "metadata": {},
   "source": [
    "#save files "
   ]
  },
  {
   "cell_type": "code",
   "execution_count": 37,
   "id": "581224d8-0021-406e-89f9-af81ab4c8901",
   "metadata": {},
   "outputs": [],
   "source": [
    "import pickle\n",
    "pickle.dump(rf,open('Randomforest.pkl','wb'))\n",
    "pickle.dump(EC,open('ensemble.pkl','wb'))\n",
    "\n",
    "with open('Randomforest.pkl','rb') as file:\n",
    "    lr=pickle.load(file)\n",
    "\n",
    "with open('ensemble.pkl','rb') as file:\n",
    "    EC=pickle.load(file)"
   ]
  },
  {
   "cell_type": "markdown",
   "id": "2f2f1941-069d-418c-9f13-c279143af1e8",
   "metadata": {},
   "source": [
    "# Detechtion System"
   ]
  },
  {
   "cell_type": "code",
   "execution_count": 43,
   "id": "ffa84113-46a9-4364-bd54-81920a4de623",
   "metadata": {},
   "outputs": [],
   "source": [
    "def real_or_fake(text):\n",
    "    ct=Clean_text(text)\n",
    "    vt=tfid.transform([ct])\n",
    "    result=lr.predict(vt)\n",
    "    return result\n",
    "    "
   ]
  },
  {
   "cell_type": "code",
   "execution_count": 47,
   "id": "cfba87cf-d755-4b16-b06a-e1f65e98de9a",
   "metadata": {},
   "outputs": [
    {
     "name": "stdout",
     "output_type": "stream",
     "text": [
      "[1]\n"
     ]
    }
   ],
   "source": [
    "input_text=\"8007 25p 4 Alfie Moon's Children in Need song on ur mob. Tell ur m8s. Txt TONE CHARITY to 8007 for nokias or POLY CHARITY for polys :zed 08701417012 profit 2 charity \"\n",
    "\n",
    "ans=real_or_fake(input_text)\n",
    "print(ans)"
   ]
  },
  {
   "cell_type": "code",
   "execution_count": null,
   "id": "eca5e932-47b0-435c-91b1-01bfd5c5e9a6",
   "metadata": {},
   "outputs": [],
   "source": []
  }
 ],
 "metadata": {
  "kernelspec": {
   "display_name": "Python 3 (ipykernel)",
   "language": "python",
   "name": "python3"
  },
  "language_info": {
   "codemirror_mode": {
    "name": "ipython",
    "version": 3
   },
   "file_extension": ".py",
   "mimetype": "text/x-python",
   "name": "python",
   "nbconvert_exporter": "python",
   "pygments_lexer": "ipython3",
   "version": "3.12.7"
  }
 },
 "nbformat": 4,
 "nbformat_minor": 5
}
